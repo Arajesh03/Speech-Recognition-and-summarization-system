{
  "nbformat": 4,
  "nbformat_minor": 0,
  "metadata": {
    "colab": {
      "provenance": [],
      "collapsed_sections": [
        "WZI4QwV2mRTL",
        "R1ld7kRTmZVV",
        "6xkKN9riRSU3",
        "HVb2Kuo7UmGM",
        "2u_1yjhSuTMp",
        "Ajv-FnIJZ1Bg"
      ],
      "authorship_tag": "ABX9TyPNJb2t4w/r60fVueQgfqFL",
      "include_colab_link": true
    },
    "kernelspec": {
      "name": "python3",
      "display_name": "Python 3"
    },
    "language_info": {
      "name": "python"
    }
  },
  "cells": [
    {
      "cell_type": "markdown",
      "metadata": {
        "id": "view-in-github",
        "colab_type": "text"
      },
      "source": [
        "<a href=\"https://colab.research.google.com/github/Arajesh03/Speech-Recognition-and-summarization-system/blob/main/ASpeechRecognitionandSummarization.ipynb\" target=\"_parent\"><img src=\"https://colab.research.google.com/assets/colab-badge.svg\" alt=\"Open In Colab\"/></a>"
      ]
    },
    {
      "cell_type": "markdown",
      "source": [
        "####Necessary Installs"
      ],
      "metadata": {
        "id": "WZI4QwV2mRTL"
      }
    },
    {
      "cell_type": "code",
      "execution_count": null,
      "metadata": {
        "colab": {
          "base_uri": "https://localhost:8080/"
        },
        "id": "U71VVViQlwTp",
        "outputId": "1299d9e6-1299-4c1a-c807-b20e94576833"
      },
      "outputs": [
        {
          "output_type": "stream",
          "name": "stdout",
          "text": [
            "Requirement already satisfied: vosk in /usr/local/lib/python3.11/dist-packages (0.3.45)\n",
            "Requirement already satisfied: cffi>=1.0 in /usr/local/lib/python3.11/dist-packages (from vosk) (1.17.1)\n",
            "Requirement already satisfied: requests in /usr/local/lib/python3.11/dist-packages (from vosk) (2.32.3)\n",
            "Requirement already satisfied: tqdm in /usr/local/lib/python3.11/dist-packages (from vosk) (4.67.1)\n",
            "Requirement already satisfied: srt in /usr/local/lib/python3.11/dist-packages (from vosk) (3.5.3)\n",
            "Requirement already satisfied: websockets in /usr/local/lib/python3.11/dist-packages (from vosk) (15.0.1)\n",
            "Requirement already satisfied: pycparser in /usr/local/lib/python3.11/dist-packages (from cffi>=1.0->vosk) (2.22)\n",
            "Requirement already satisfied: charset-normalizer<4,>=2 in /usr/local/lib/python3.11/dist-packages (from requests->vosk) (3.4.2)\n",
            "Requirement already satisfied: idna<4,>=2.5 in /usr/local/lib/python3.11/dist-packages (from requests->vosk) (3.10)\n",
            "Requirement already satisfied: urllib3<3,>=1.21.1 in /usr/local/lib/python3.11/dist-packages (from requests->vosk) (2.5.0)\n",
            "Requirement already satisfied: certifi>=2017.4.17 in /usr/local/lib/python3.11/dist-packages (from requests->vosk) (2025.8.3)\n",
            "Requirement already satisfied: pydub in /usr/local/lib/python3.11/dist-packages (0.25.1)\n",
            "Requirement already satisfied: transformers in /usr/local/lib/python3.11/dist-packages (4.55.0)\n",
            "Requirement already satisfied: filelock in /usr/local/lib/python3.11/dist-packages (from transformers) (3.18.0)\n",
            "Requirement already satisfied: huggingface-hub<1.0,>=0.34.0 in /usr/local/lib/python3.11/dist-packages (from transformers) (0.34.3)\n",
            "Requirement already satisfied: numpy>=1.17 in /usr/local/lib/python3.11/dist-packages (from transformers) (2.0.2)\n",
            "Requirement already satisfied: packaging>=20.0 in /usr/local/lib/python3.11/dist-packages (from transformers) (25.0)\n",
            "Requirement already satisfied: pyyaml>=5.1 in /usr/local/lib/python3.11/dist-packages (from transformers) (6.0.2)\n",
            "Requirement already satisfied: regex!=2019.12.17 in /usr/local/lib/python3.11/dist-packages (from transformers) (2024.11.6)\n",
            "Requirement already satisfied: requests in /usr/local/lib/python3.11/dist-packages (from transformers) (2.32.3)\n",
            "Requirement already satisfied: tokenizers<0.22,>=0.21 in /usr/local/lib/python3.11/dist-packages (from transformers) (0.21.4)\n",
            "Requirement already satisfied: safetensors>=0.4.3 in /usr/local/lib/python3.11/dist-packages (from transformers) (0.6.1)\n",
            "Requirement already satisfied: tqdm>=4.27 in /usr/local/lib/python3.11/dist-packages (from transformers) (4.67.1)\n",
            "Requirement already satisfied: fsspec>=2023.5.0 in /usr/local/lib/python3.11/dist-packages (from huggingface-hub<1.0,>=0.34.0->transformers) (2025.3.0)\n",
            "Requirement already satisfied: typing-extensions>=3.7.4.3 in /usr/local/lib/python3.11/dist-packages (from huggingface-hub<1.0,>=0.34.0->transformers) (4.14.1)\n",
            "Requirement already satisfied: hf-xet<2.0.0,>=1.1.3 in /usr/local/lib/python3.11/dist-packages (from huggingface-hub<1.0,>=0.34.0->transformers) (1.1.7)\n",
            "Requirement already satisfied: charset-normalizer<4,>=2 in /usr/local/lib/python3.11/dist-packages (from requests->transformers) (3.4.2)\n",
            "Requirement already satisfied: idna<4,>=2.5 in /usr/local/lib/python3.11/dist-packages (from requests->transformers) (3.10)\n",
            "Requirement already satisfied: urllib3<3,>=1.21.1 in /usr/local/lib/python3.11/dist-packages (from requests->transformers) (2.5.0)\n",
            "Requirement already satisfied: certifi>=2017.4.17 in /usr/local/lib/python3.11/dist-packages (from requests->transformers) (2025.8.3)\n",
            "Looking in links: https://download.pytorch.org/whl/torch_stable.html\n",
            "Requirement already satisfied: torch in /usr/local/lib/python3.11/dist-packages (2.6.0+cu124)\n",
            "Requirement already satisfied: filelock in /usr/local/lib/python3.11/dist-packages (from torch) (3.18.0)\n",
            "Requirement already satisfied: typing-extensions>=4.10.0 in /usr/local/lib/python3.11/dist-packages (from torch) (4.14.1)\n",
            "Requirement already satisfied: networkx in /usr/local/lib/python3.11/dist-packages (from torch) (3.5)\n",
            "Requirement already satisfied: jinja2 in /usr/local/lib/python3.11/dist-packages (from torch) (3.1.6)\n",
            "Requirement already satisfied: fsspec in /usr/local/lib/python3.11/dist-packages (from torch) (2025.3.0)\n",
            "Requirement already satisfied: nvidia-cuda-nvrtc-cu12==12.4.127 in /usr/local/lib/python3.11/dist-packages (from torch) (12.4.127)\n",
            "Requirement already satisfied: nvidia-cuda-runtime-cu12==12.4.127 in /usr/local/lib/python3.11/dist-packages (from torch) (12.4.127)\n",
            "Requirement already satisfied: nvidia-cuda-cupti-cu12==12.4.127 in /usr/local/lib/python3.11/dist-packages (from torch) (12.4.127)\n",
            "Requirement already satisfied: nvidia-cudnn-cu12==9.1.0.70 in /usr/local/lib/python3.11/dist-packages (from torch) (9.1.0.70)\n",
            "Requirement already satisfied: nvidia-cublas-cu12==12.4.5.8 in /usr/local/lib/python3.11/dist-packages (from torch) (12.4.5.8)\n",
            "Requirement already satisfied: nvidia-cufft-cu12==11.2.1.3 in /usr/local/lib/python3.11/dist-packages (from torch) (11.2.1.3)\n",
            "Requirement already satisfied: nvidia-curand-cu12==10.3.5.147 in /usr/local/lib/python3.11/dist-packages (from torch) (10.3.5.147)\n",
            "Requirement already satisfied: nvidia-cusolver-cu12==11.6.1.9 in /usr/local/lib/python3.11/dist-packages (from torch) (11.6.1.9)\n",
            "Requirement already satisfied: nvidia-cusparse-cu12==12.3.1.170 in /usr/local/lib/python3.11/dist-packages (from torch) (12.3.1.170)\n",
            "Requirement already satisfied: nvidia-cusparselt-cu12==0.6.2 in /usr/local/lib/python3.11/dist-packages (from torch) (0.6.2)\n",
            "Requirement already satisfied: nvidia-nccl-cu12==2.21.5 in /usr/local/lib/python3.11/dist-packages (from torch) (2.21.5)\n",
            "Requirement already satisfied: nvidia-nvtx-cu12==12.4.127 in /usr/local/lib/python3.11/dist-packages (from torch) (12.4.127)\n",
            "Requirement already satisfied: nvidia-nvjitlink-cu12==12.4.127 in /usr/local/lib/python3.11/dist-packages (from torch) (12.4.127)\n",
            "Requirement already satisfied: triton==3.2.0 in /usr/local/lib/python3.11/dist-packages (from torch) (3.2.0)\n",
            "Requirement already satisfied: sympy==1.13.1 in /usr/local/lib/python3.11/dist-packages (from torch) (1.13.1)\n",
            "Requirement already satisfied: mpmath<1.4,>=1.1.0 in /usr/local/lib/python3.11/dist-packages (from sympy==1.13.1->torch) (1.3.0)\n",
            "Requirement already satisfied: MarkupSafe>=2.0 in /usr/local/lib/python3.11/dist-packages (from jinja2->torch) (3.0.2)\n"
          ]
        }
      ],
      "source": [
        "!pip install vosk\n",
        "!pip install pydub\n",
        "!pip install transformers\n",
        "!pip install torch -f https://download.pytorch.org/whl/torch_stable.html"
      ]
    },
    {
      "cell_type": "markdown",
      "source": [
        "####Speech Recognition: Downloading the Model and Audio Files"
      ],
      "metadata": {
        "id": "R1ld7kRTmZVV"
      }
    },
    {
      "cell_type": "markdown",
      "source": [
        "- Vosk is pretty easy to use and offers big and small per-language models trained on thousands hours of speedh data.\n",
        "\n",
        "- Downloaded Vosk Model and audio files followed by loading the selected mode, initializing a recognizer and enabling the model to return not only the complete transcript of the audio but also its individual words."
      ],
      "metadata": {
        "id": "D0hzExylmsY3"
      }
    },
    {
      "cell_type": "code",
      "source": [
        "from vosk import Model, KaldiRecognizer"
      ],
      "metadata": {
        "id": "N3CpJ9RLQGTC"
      },
      "execution_count": null,
      "outputs": []
    },
    {
      "cell_type": "code",
      "source": [
        "FRAME_RATE = 16000\n",
        "CHANNELS = 1\n",
        "\n",
        "model = Model(model_name=\"vosk-model-en-us-0.22\")\n",
        "rec = KaldiRecognizer(model, FRAME_RATE)\n",
        "rec.SetWords(True)"
      ],
      "metadata": {
        "id": "3gUX3XHHQTlq"
      },
      "execution_count": null,
      "outputs": []
    },
    {
      "cell_type": "markdown",
      "source": [
        "####Speech Recognition: Loading an Audio File"
      ],
      "metadata": {
        "id": "6xkKN9riRSU3"
      }
    },
    {
      "cell_type": "markdown",
      "source": [
        "- Further pass in the recognizer to actually recognize text in the speech by using pydub library.\n",
        "- pydub: it allows to load and edit audio files really easily.\n",
        "- Need to set the number of channels (2 default) and frame rate (44000 default)"
      ],
      "metadata": {
        "id": "wbYAxCugRc_X"
      }
    },
    {
      "cell_type": "code",
      "source": [
        "!pip install pydub"
      ],
      "metadata": {
        "id": "4wUKmIlQSQy9",
        "colab": {
          "base_uri": "https://localhost:8080/"
        },
        "outputId": "83032206-e913-45b0-d7fb-1c612bcec21d"
      },
      "execution_count": null,
      "outputs": [
        {
          "output_type": "stream",
          "name": "stdout",
          "text": [
            "Requirement already satisfied: pydub in /usr/local/lib/python3.11/dist-packages (0.25.1)\n"
          ]
        }
      ]
    },
    {
      "cell_type": "code",
      "source": [
        "from pydub import AudioSegment"
      ],
      "metadata": {
        "id": "7q-s6WjwSZ-F"
      },
      "execution_count": null,
      "outputs": []
    },
    {
      "cell_type": "code",
      "source": [
        "mp3 = AudioSegment.from_mp3(\"marketplace_full (1).mp3\")\n",
        "mp3 = mp3.set_channels(CHANNELS)\n",
        "mp3 = mp3.set_frame_rate(FRAME_RATE)"
      ],
      "metadata": {
        "id": "mkDzCUEJSdGO"
      },
      "execution_count": null,
      "outputs": []
    },
    {
      "cell_type": "markdown",
      "source": [
        "####Speech Recognition: Transcribing the Audio File into Text"
      ],
      "metadata": {
        "id": "HVb2Kuo7UmGM"
      }
    },
    {
      "cell_type": "markdown",
      "source": [
        "- Pass the audio file into the speech recognition model to get the text transcript of the speech.\n"
      ],
      "metadata": {
        "id": "YbviyHN4U0kz"
      }
    },
    {
      "cell_type": "code",
      "source": [
        "# AcceptWaveform() pass in the raw data of the audio file to the recognizer\n",
        "rec.AcceptWaveform(mp3.raw_data)"
      ],
      "metadata": {
        "id": "h1OBE_lfU-kj",
        "colab": {
          "base_uri": "https://localhost:8080/"
        },
        "outputId": "efddc086-36dc-4b46-fb32-70fd2f157db0"
      },
      "execution_count": null,
      "outputs": [
        {
          "output_type": "execute_result",
          "data": {
            "text/plain": [
              "1"
            ]
          },
          "metadata": {},
          "execution_count": 7
        }
      ]
    },
    {
      "cell_type": "code",
      "source": [
        "#Extract the results of speech recognition from the recognizer\n",
        "result = rec.Result()"
      ],
      "metadata": {
        "id": "An_SsWxuVD0Y"
      },
      "execution_count": null,
      "outputs": []
    },
    {
      "cell_type": "code",
      "source": [
        "#Convert the above file into a Python dictionary and extract only th etext of the speech\n",
        "import json\n",
        "text = json.loads(result)[\"text\"]"
      ],
      "metadata": {
        "id": "30gSEfY1VIT2"
      },
      "execution_count": null,
      "outputs": []
    },
    {
      "cell_type": "code",
      "source": [
        "text"
      ],
      "metadata": {
        "id": "P317s6i4V-sv",
        "colab": {
          "base_uri": "https://localhost:8080/",
          "height": 214
        },
        "outputId": "2e851f2b-df11-4f90-dfc6-7cba3974e3bf"
      },
      "execution_count": null,
      "outputs": [
        {
          "output_type": "execute_result",
          "data": {
            "text/plain": [
              "\"turns out fifty four dollars and twenty cents was not a joke from american public media this is marketplace the in los angeles ca resident monday today i do believe the twenty fifth of april good as always to have you along everybody all right just for fun i am going to see if i can do this in two hundred and eighty characters which is of course twitter's limit starting right now after making a not very veiled marijuana reference in offering fifty four dollars twenty cents a share to buy twitter elon musk has sealed the deal as of today lauren hirsch has been covering the story for the new york times thanks for coming on thanks for having me setting aside all marijuana jokes that many people made with this price that musk offered and clearly he was serious and now this has happened in an unbelievably fast timeline right and we will be fast i tell you i was at a shower yesterday communicating like us to where it's kind of casually checking in at my source code i think there could be detailed in my out and i got what how is that even possible and you know i don't think most people never thought a deal would have happened and even if people thought they weren't it'd be a deal i don't think anyone thought it could have possibly happened this quickly he gets all the money together they have these board meetings over the weekend and then today it's a done deal let me ask you this though and and this may be a longer answer than we have time for in the program today why does elon musk want to buy twitter i can tell you what he has said which is he is he would call himself an advocate for free speech and he doesn't like the way that twitter has managed content on it's platform and he wants to change that he's spoken in a statement today about i kind of keep centralizing it's contents with effectively allowing users to personalize that content that they see on the app but i'll tell you a lot of people really don't know that is what he said but it feels like there might be something deeper here you know to spend forty billion dollars largely on money right i notice you didn't say he wants to make money he wants to run it as a better business and show the the the the logical extension of that is here you have an american oligarch buying a global communications platform and work at just going to have to see what happens we're just gonna have to see what happens i don't think we have really ever seen anything like this you know obviously that fans have thought otherwise in both but that was very different he said he would not get involved at all editorially and elon musk has said in editorial concerning because his desire in buying it for now that we don't really know what the end goal is here and he sat on his ted talk the day you are bound to be announced in bed that profit is not a motive so it'll be interesting to see how this turns out it will indeed to the to the nuts and bolts of this negotiation and he comes in and says i want to buy twitter and here's my price final offer the board says i dunno there's talk about a poison pill the boards clearly not excited and then presto chango the board says yes did they just give up and say you know what we don't have a better way to run this thing you do it the big presto changer with han putting together financing many people thought he would never be able to do it but on wednesday and thursday he made public that he had actually call it together i think more than the actual offer ended up being so that changed the game for the board all of a sudden they had to take the offer seriously and the pressure was mounting shareholders recalling and at a certain point you have to listen to your shareholders and they seem to be indicating they wanted to go with elon feel so last thing and then i'll let you go because i know you've got reporting to do on your on twitter i'm on twitter lots of people we both know are on twitter journalists and many others but the overwhelming majority of the american public isn't why do we care about this that's an excellent question i think it goes to what we were discussing earlier you know the power of well certainly in our country to effectively get pretty much anything you want i don't think anyone thought that twitter western sites but the fact that he's the richest person in the country makes vs yes the richest person in the world makes it fell in all of that you know as a journalist you kind of have this very idealistic view of communications and media and how it should be ryan and this really has taken the rug out from under that because this is a man with a clear view and he's going to run it with a clear view and i think we all need to rethink that ramifications on communication in the country lauren hirsch covers business and most recently the twitter store in atlanta most of the new york times lauren thanks a lot i appreciate your time thanks for having me that introduction by the way two hundred and forty five characters nailed it twitter shares on this monday up almost six percent still though a couple of bucks shy of must offer of one hundred and fifty four dollars twenty cents a piece elsewhere the major indices were up we'll have the details when we do the numbers or mark your calendars for friday everybody that's when the latest inflation numbers are going to be out we told you about the march consumer price index couple of weeks ago up eight and a half percent year on year as you're surely know by now this friday we get p c e that's personal consumption expenditures which the federal reserve really likes but as we all know everybody is watching inflation right now there are though some nuances in the way that people experience inflation that the official metrics just don't capture so i think maybe it could be helpful to like tell a story to sort of emphasize sort of one of the reasons that i decided to study this topic and i thought it was interesting i'm sorry you are yeah but it's jacob orchard so i'm a phd candidate at u c san diego and actually just finishing up my phd and so then after that i'll be doctor orchard but until then i'm still a student alright well then future doctor orchard please go on in twenty eleven bill dudley who was the president of the new york fed at the time he was doing an outreach speech to a blue collar community in new york another the reason for the speeches people were concerned about cost of living just like they are today but unlike today the actual official measurer of inflation wasn't that high back then some prices food and energy of course were going up a lot other prices not really so much the cp i the consumer price index was up two point seven percent year over year when bill dudley gave that speech eight and a half percent day as we all know and as an example of why the fed wasn't super concerned about inflation give an example of you know if you look at the ipad two which had just come out it's the same price as the ipad one is better introductory cost of an ipad one four hundred and ninety nine dollars introductory cost of an ipad two a year later four hundred and ninety nine dollars you know some prices are going down and then someone from the audience shouted we can't eat an ipad fact check true and i think it just goes to show that you know maybe the prices of some things aren't that important for some people so the actual topic of my dissertation is how the price index for low income and high income households can systematically differ over the course of the business cycle in other words where you are on the income spectrum determines your personal inflation rate right now from march twenty twenty two so this last report that we got compared to march twenty twenty one the inflation rate for low income households was running at about nine percent are from high income households is much closer to the average inflation rate at eight and a half percent in other words inflation is high for everybody but there is a gap and if you step back for a second and think big picture i kind of make sense the two biggest sources of inflation are energy prices and food that stephanie said nino professor of economics at the university of vermont and for low income families they comprise a much larger portion of the budget so poor families undoubtedly are hit hard and there is another piece of this we gotta talk about inflation and jobs the overall inflation rate is at a forty year high the overall unemployment rate three point six percent darn near fifty year lows but there is a huge caveat there latino unemployment rate four point two percent in march the black unemployment rate six point two percent i want to be clear that when you ask people in a survey do they care more about unemployment or inflation they say unemployment they would rather live with some inflation and have a job that have low inflation and no job here's the thing though you can raise interest rates to fight inflation which the fed does that slows the economy and that usually increases unemployment we call it the sacrifice ratio and the sacrifice is disproportionately paid for by people of color that is african americans and hispanics are disproportionately likely to lose their jobs and your job which you can read as your wages right that affects what you buy which gets reflected in those inflation numbers the overall cp i is meant to capture the spending patterns of a typical household but really nobody's the typical household and that gets us to this last point how we measure inflation in this economy then you'll sickle is a professor at wellesley also though he's the chair of a national academy of sciences committee that is studying ways to modernize the consumer price index make it better right and more useful the bls does publish a couple of versions of the cp i already but there's plenty of room for improvement like they could do what jacob orchard and other researchers remember jacob orchard the almost doctor up from the top could do what they do using data on spending patterns to desegregate the sepia a step further than that would be to develop a data system where they really could link prices of particular items to the demographic characteristics of the people buying them that would be kind of like the holy grail which would be super useful in the meanwhile they're waiting for the holy grail later on this week the fed's favorite inflation metric pc we will tell you why that is the one that they like ooh one more quick thing on inflation and wages this time the national association for business economics is out with a new survey of economists to work at big companies and those economists a record number of them say their businesses have been book and pay increases of late yeah but here's marketplace's nancy marshall cancer in leicester jones's world you need muscle we rely on a lot of manual labor jones is chief economist at the national beer wholesalers association we move cases of beverages throughout the economy they're heavy junk says some distributors are competing fiercely for workers and it's like that all over seventy percent of the economists surveyed said wages rose at their companies that's the highest number in the surveys forty year history but for the most part employers aren't boosting wages enough to keep up with soaring prices cornell labor economist erica grossman has a theory on that they don't want to get too far ahead of inflation because it's hard to dial that back some economists in their survey don't expect their firms to pay workers more in the future say over the next three months brad her spine a senior economist at the w e upjohn institute for employment research says that's because employers expect inflation to moderate people think that a lot of the supply chain issues will gradually get resolved and that the war situation in ukraine may also eventually die down or at least get partially resolved but in the meantime many workers will be stuck with races they don't keep up with rising prices and respond says inflation may not get back to normal levels until next year i'm nancy marshall cancer for marketplace the coming up you need to keep that stock up or someone will do it for you well alrighty then first though let's do the numbers that industrial's up to thirty eight today seven cents per cent thirty four thousand and forty nine nasdaq picked up one hundred and sixty five points about one point three percent thirteen thousand for the s and p five hundred up twenty four points almost six tenths percent finished at forty two ninety six trading and twitter was suspended for bitch as before the purchase of the social media platform was announced before that shares up five and two thirds percent left shares worth about five percent less than musk's offer a fifty four dollars and twenty cents a piece the deal hammered shares of digital world acquisition corp the spec that is trying to merge with donald trump's social platform share their bound twelve and nine tenths percent read into that what you will news of the deal also sent shares musk's other company lower no not the space company or the total company the electric car company tesla down seven tenths of one percent today are listening to market by this marketplace podcast is supported by masterworks the law of capitalism predicted that one percent of us earners now hold more wealth than all of the middle class and while they got richer sitting in their yachts sipping champagne during the pandemic they also got richer thanks to the amazing compounding power of their holy grail investments for example take a look at contemporary art while most people would brush this holy grail investment aside they don't realize that an investment in a banksy painting gave an unidentified collector ten million dollars a basquiat painting sold for fifty million dollars to another buyer and a warhol for an amazing one hundred and ninety five million dollars and while most people don't think they can get involved in this holy grail investment a fintech platform called masterworks has changed all that masterworks allows you to invest in artworks by banksy basquiat and warhol they pore over millions of data points to identify particular artworks that could soar in price then they purchase them securitize them so you can invest in these multi million dollar assets like shares we even partnered with masterworks so that marketplace listeners can skip their waitlist just go to masterworks dot io slash marketplace to skip the waitlist that's masterworks dot io slash marketplace see important disclosures at masterworks dot com slash disclaimer this marketplace podcast is supported by checkout dot com now more than ever businesses have had to give real thought to their digital commerce payments are an integral part of any business but too often they're thought of as a business necessity rather than a strategic tool that can help businesses grow for that you need checkout dot com checkout dot com is a leading digital global payment solutions provider for brands like she and grab sony electronics wise and henkel checkouts flexible payments platform is purpose built with performance scalability and speed in mind ideal for businesses looking to seamlessly integrate better payment solutions globally with a dedicated team of local experts spanning nineteen offices in five continents check out dot com offers a strategic partnership to help businesses improve their acceptance rates optimize their payments performance and grow their business globally checkout dot com exists to enable businesses and their communities to thrive in the digital economy discover how check-out dot com can help your business thrive at checkout dot com slash market that's checkout dot com slash market this is marketplace i'm kai original lauren hirsch talked about why the twitter board took elon musk's offer of fifty four twenty a share when we were talking up the top of the show bottom line it's a good price and they were looking out she said for shareholders and that's the mature in american capitalism right maximizing shareholder value well yes and no i mean it is the mantra but how and why it came to be that way marketplaces scott tongue looked into that forest back in two thousand and sixteen it all began with a professor at the university of chicago economist milton friedman wrote this in nineteen seventy there is one and only one social responsibility of business to increase it's profits for whom for stockholders he wrote this was a brand new idea that took because the old corporate model was crumbling under pressure from inflation and from weak growth records men of the drucker institute is the author of the end of loyalty coming out this year some called it slump inflation inflammation was another one circulated but most famously was stagflation it exposed american companies as uncompetitive many companies had gotten fat and lazy during the golden age of american business we just didn't see the same starting to come apart until the late sixties early seventies friedman and his chicago colleagues argue that companies were taking on too many social responsibilities providing jobs helping to fight pollution and and discrimination it was inefficient we saw enormous amounts of waste going on economist mike jensen was a student of friedman's and he co-wrote the most cited business paper ever shareholders suffered he wrote because executives were selfish they wanted perks you can't ignore the self interest of everybody that's involved and you can't assume that firms maximize profits ceo is feathering their nests now some of us have a certain vintage recall the eighties film wall street it stars a rather obnoxious shareholder gordon gekko here talking to other shareholders you are all being screwed over by these bureaucrats with their steak or hunting and fishing trips their corporate jets and golden parachutes if you listen closely gordon gekko was channeling his inner university of chicago mike jensen if you shape up executives shape up companies and shareholders when quite often something that significantly new and right were basically right is rejected by the profession because it's too new but that all went away eventually it caught up it stuck jensen went on to become a superstar prof at harvard business school where his ideas went mainstream david lang staff was an mba student then before going on to run companies in national defense the dominant and the accepted understanding at the time which continues is that businesses there to make a profit for shareholders period so into the eighties echo chamber along with big hair and new coke went to three business words maximize mike jensen may not use those words but that's how his ideas got applied by a whole generation of leaders says roger martin he's former management dean at the university of toronto there was an obsession with shareholder value maximization as manifested in meeting their quarterly earnings for the analysts are all happy with you how happy stocks soared twelve fold in the eighties and nineties for every one dollar in profits eighty cents went to shareholders through dividends and what are called buybacks which brings us to the rub a fast way to fast profits is cutting jobs reports none of the drucker institute says what began to erode at this time is what he calls the corporate social contract that basically said if you come to work every day and you work hard and you give the corporation a measure of loyalty we in turn will take care of you often for the rest of your life all that changed wages flattened pensions and healthcare benefits eroded this idea of maximizing shareholder value is an important reason why all that happened there are other reasons the rise of technology globalization the decline of unions but i'd put it right up there with any of those other factors too many the relevant case study here is general electric in the nineteen eighties run by an old college hockey captain named jack welch at ge in the fifties like many companies then made explicit that workers in research came first shareholders last but under welsh it downsized more than one hundred thousand workers in five years one of his strategies being to dump the lowest ten percent of performers here's welch at the mit sloan school of business in two thousand and five okay you know exactly who the turkeys at their writing skills baseball teams do it every day it's the way it is why should not have cats welsh cut entire divisions and plants he famously demanded that his managers fix it sell it or close it a lot of people initially were a little bit alarmed nicholas heymann of the investment banker william blair is a long long time ge analyst going all the way back to the eighties he spoke by phone gs actions spawned a lot more similar type of aggressive cost restructuring across industrial america in the late eighties and throughout the nineties fair or not welch became the face of maximizing shareholder value it's winners and its losers in his two decades at the helm ge met wall street expectations almost every single quarter a fourteen billion dollar company became a more than four hundred billion behemoth welch himself made nearly a billion dollars so other executives followed sometimes to be like him and sometimes out of fear because in the mid eighties some testy shareholders with deep pockets started to buy out big companies and fire underperforming executives there's accountability when this all took on different names from corporate raiders to today's activist investors perhaps the most famous being carl icahn hedge fund manager jeff graham has written a book on these battles it's called dear chairman if you're the ceo of a company then you have to keep that stock up there's a famous quote from carl icahn from the nineteen eighties you need to keep that stock up or someone will do it for you shareholders first it became gospel but the question is is it even in the scripture does the law require it cornell law professor lynn stout is the author of the shareholder value myth there is a widespread and completely erroneous belief out there that there's some sort of legal duty that corporate managers have to quote maximize profits or maximize shareholder value in stats view the misplaced assumption comes from an old old case that sites stock holders interest but to stay out of the weeds here she argues it did not set precedent by contrast you can just pick up the supreme court case hobby lobby decided just a few years ago read the majority opinion where justice alito says and i quote modern corporate law does not require for profit corporations to pursue profit at the expense of everything else or just to be clear law professor still argue about this but the point is it's far from illegal given that companies have to make profits for shareholders and yet it became the law of the land into stout it led directly to some bad decisions and run the bp oil spill the financial crisis which brings us back to the man widely acclaimed as the intellectual father mike jensen is it happened exactly the way i wanted it to happen probably not jensen says the shareholder focus in some cases went overboard there's always going to be some people who take it too far and then cause damage he says focusing only on stocks and stock holders is a misreading of his scholarship for the record he wrote in nineteen ninety that ceo should quote do what is in the shareholders' best interest now he says i wouldn't put shareholders at the center i'm still unhappy about that situation where people end up thinking that shareholders are primary there are only bosses know still maximizing shareholder value remains in fashion in one study of the s and p five hundred companies the share of profits going to stockholders has gone from fifty percent in the early eighties to eighty six percent in two thousand and thirteen leaving an ever shrinking pool of money to invest in the businesses themselves in washington the marketplace hmm this final note on the way at the day an opportunity for you if you've got a spare five million or so dollars saw this in the wall street journal today back in the before times warren buffett auctioned off a steak lunch with him every year proceeds to a charity in san francisco hasn't happened obviously since two thousand and nineteen and this year's launch we are told will be the last buffett is after all ninety one anyway bidding opens june the twelfth the two thousand and nineteen launch just for some comparison went for four point six million american somalians of course you do get to bring seven friends are super quick moment of economic context a calendar reminder should you be so inclined elon musk's new company twitter of course reports earnings on thursday our daily production team is unease i'm in anti corbyn richard cunningham real horse stomach henry and daisy palacios car result we will see tomorrow the jpm\""
            ],
            "application/vnd.google.colaboratory.intrinsic+json": {
              "type": "string"
            }
          },
          "metadata": {},
          "execution_count": 10
        }
      ]
    },
    {
      "cell_type": "markdown",
      "source": [
        "####Adding Punctuation to the transcript"
      ],
      "metadata": {
        "id": "2u_1yjhSuTMp"
      }
    },
    {
      "cell_type": "markdown",
      "source": [
        "- Have to use another library - recasepunc. Vosk has trained its own models using recasepunc to add punctuation to vosk output.\n",
        "\n",
        "- On the Vosk website, click on models under the Punctuation models, download the pre-trained model and unzip the file. we need checkpoint (the pre-trained model) and recasepunc (the file that you'll to do the inference)."
      ],
      "metadata": {
        "id": "GiUQy2HYudWO"
      }
    },
    {
      "cell_type": "code",
      "source": [
        "!pip install transformers\n",
        "!pip install torch -f"
      ],
      "metadata": {
        "colab": {
          "base_uri": "https://localhost:8080/"
        },
        "id": "v76sH8TQ2rz7",
        "outputId": "31979556-51e6-45aa-c45d-9ba1f1972efe"
      },
      "execution_count": null,
      "outputs": [
        {
          "output_type": "stream",
          "name": "stdout",
          "text": [
            "Requirement already satisfied: transformers in /usr/local/lib/python3.11/dist-packages (4.55.0)\n",
            "Requirement already satisfied: filelock in /usr/local/lib/python3.11/dist-packages (from transformers) (3.18.0)\n",
            "Requirement already satisfied: huggingface-hub<1.0,>=0.34.0 in /usr/local/lib/python3.11/dist-packages (from transformers) (0.34.3)\n",
            "Requirement already satisfied: numpy>=1.17 in /usr/local/lib/python3.11/dist-packages (from transformers) (2.0.2)\n",
            "Requirement already satisfied: packaging>=20.0 in /usr/local/lib/python3.11/dist-packages (from transformers) (25.0)\n",
            "Requirement already satisfied: pyyaml>=5.1 in /usr/local/lib/python3.11/dist-packages (from transformers) (6.0.2)\n",
            "Requirement already satisfied: regex!=2019.12.17 in /usr/local/lib/python3.11/dist-packages (from transformers) (2024.11.6)\n",
            "Requirement already satisfied: requests in /usr/local/lib/python3.11/dist-packages (from transformers) (2.32.3)\n",
            "Requirement already satisfied: tokenizers<0.22,>=0.21 in /usr/local/lib/python3.11/dist-packages (from transformers) (0.21.4)\n",
            "Requirement already satisfied: safetensors>=0.4.3 in /usr/local/lib/python3.11/dist-packages (from transformers) (0.6.1)\n",
            "Requirement already satisfied: tqdm>=4.27 in /usr/local/lib/python3.11/dist-packages (from transformers) (4.67.1)\n",
            "Requirement already satisfied: fsspec>=2023.5.0 in /usr/local/lib/python3.11/dist-packages (from huggingface-hub<1.0,>=0.34.0->transformers) (2025.3.0)\n",
            "Requirement already satisfied: typing-extensions>=3.7.4.3 in /usr/local/lib/python3.11/dist-packages (from huggingface-hub<1.0,>=0.34.0->transformers) (4.14.1)\n",
            "Requirement already satisfied: hf-xet<2.0.0,>=1.1.3 in /usr/local/lib/python3.11/dist-packages (from huggingface-hub<1.0,>=0.34.0->transformers) (1.1.7)\n",
            "Requirement already satisfied: charset-normalizer<4,>=2 in /usr/local/lib/python3.11/dist-packages (from requests->transformers) (3.4.2)\n",
            "Requirement already satisfied: idna<4,>=2.5 in /usr/local/lib/python3.11/dist-packages (from requests->transformers) (3.10)\n",
            "Requirement already satisfied: urllib3<3,>=1.21.1 in /usr/local/lib/python3.11/dist-packages (from requests->transformers) (2.5.0)\n",
            "Requirement already satisfied: certifi>=2017.4.17 in /usr/local/lib/python3.11/dist-packages (from requests->transformers) (2025.8.3)\n",
            "\n",
            "Usage:   \n",
            "  pip3 install [options] <requirement specifier> [package-index-options] ...\n",
            "  pip3 install [options] -r <requirements file> [package-index-options] ...\n",
            "  pip3 install [options] [-e] <vcs project url> ...\n",
            "  pip3 install [options] [-e] <local project path> ...\n",
            "  pip3 install [options] <archive url/path> ...\n",
            "\n",
            "-f option requires 1 argument\n"
          ]
        }
      ]
    },
    {
      "cell_type": "code",
      "source": [
        "import subprocess\n",
        "cased = subprocess.check_output('python recasepunc/recasepunc.py predict recasepunc/checkpoint', shell=True, text=True, input=text)\n"
      ],
      "metadata": {
        "colab": {
          "base_uri": "https://localhost:8080/",
          "height": 365
        },
        "id": "sM01L9yju1rk",
        "outputId": "1bb38ee2-fd51-4c0a-c4a1-dc9dbb39d18a"
      },
      "execution_count": null,
      "outputs": [
        {
          "output_type": "error",
          "ename": "CalledProcessError",
          "evalue": "Command 'python recasepunc/recasepunc.py predict recasepunc/checkpoint' returned non-zero exit status 2.",
          "traceback": [
            "\u001b[0;31m---------------------------------------------------------------------------\u001b[0m",
            "\u001b[0;31mCalledProcessError\u001b[0m                        Traceback (most recent call last)",
            "\u001b[0;32m/tmp/ipython-input-3914977229.py\u001b[0m in \u001b[0;36m<cell line: 0>\u001b[0;34m()\u001b[0m\n\u001b[1;32m      1\u001b[0m \u001b[0;32mimport\u001b[0m \u001b[0msubprocess\u001b[0m\u001b[0;34m\u001b[0m\u001b[0;34m\u001b[0m\u001b[0m\n\u001b[0;32m----> 2\u001b[0;31m \u001b[0mcased\u001b[0m \u001b[0;34m=\u001b[0m \u001b[0msubprocess\u001b[0m\u001b[0;34m.\u001b[0m\u001b[0mcheck_output\u001b[0m\u001b[0;34m(\u001b[0m\u001b[0;34m'python recasepunc/recasepunc.py predict recasepunc/checkpoint'\u001b[0m\u001b[0;34m,\u001b[0m \u001b[0mshell\u001b[0m\u001b[0;34m=\u001b[0m\u001b[0;32mTrue\u001b[0m\u001b[0;34m,\u001b[0m \u001b[0mtext\u001b[0m\u001b[0;34m=\u001b[0m\u001b[0;32mTrue\u001b[0m\u001b[0;34m,\u001b[0m \u001b[0minput\u001b[0m\u001b[0;34m=\u001b[0m\u001b[0mtext\u001b[0m\u001b[0;34m)\u001b[0m\u001b[0;34m\u001b[0m\u001b[0;34m\u001b[0m\u001b[0m\n\u001b[0m",
            "\u001b[0;32m/usr/lib/python3.11/subprocess.py\u001b[0m in \u001b[0;36mcheck_output\u001b[0;34m(timeout, *popenargs, **kwargs)\u001b[0m\n\u001b[1;32m    464\u001b[0m         \u001b[0mkwargs\u001b[0m\u001b[0;34m[\u001b[0m\u001b[0;34m'input'\u001b[0m\u001b[0;34m]\u001b[0m \u001b[0;34m=\u001b[0m \u001b[0mempty\u001b[0m\u001b[0;34m\u001b[0m\u001b[0;34m\u001b[0m\u001b[0m\n\u001b[1;32m    465\u001b[0m \u001b[0;34m\u001b[0m\u001b[0m\n\u001b[0;32m--> 466\u001b[0;31m     return run(*popenargs, stdout=PIPE, timeout=timeout, check=True,\n\u001b[0m\u001b[1;32m    467\u001b[0m                **kwargs).stdout\n\u001b[1;32m    468\u001b[0m \u001b[0;34m\u001b[0m\u001b[0m\n",
            "\u001b[0;32m/usr/lib/python3.11/subprocess.py\u001b[0m in \u001b[0;36mrun\u001b[0;34m(input, capture_output, timeout, check, *popenargs, **kwargs)\u001b[0m\n\u001b[1;32m    569\u001b[0m         \u001b[0mretcode\u001b[0m \u001b[0;34m=\u001b[0m \u001b[0mprocess\u001b[0m\u001b[0;34m.\u001b[0m\u001b[0mpoll\u001b[0m\u001b[0;34m(\u001b[0m\u001b[0;34m)\u001b[0m\u001b[0;34m\u001b[0m\u001b[0;34m\u001b[0m\u001b[0m\n\u001b[1;32m    570\u001b[0m         \u001b[0;32mif\u001b[0m \u001b[0mcheck\u001b[0m \u001b[0;32mand\u001b[0m \u001b[0mretcode\u001b[0m\u001b[0;34m:\u001b[0m\u001b[0;34m\u001b[0m\u001b[0;34m\u001b[0m\u001b[0m\n\u001b[0;32m--> 571\u001b[0;31m             raise CalledProcessError(retcode, process.args,\n\u001b[0m\u001b[1;32m    572\u001b[0m                                      output=stdout, stderr=stderr)\n\u001b[1;32m    573\u001b[0m     \u001b[0;32mreturn\u001b[0m \u001b[0mCompletedProcess\u001b[0m\u001b[0;34m(\u001b[0m\u001b[0mprocess\u001b[0m\u001b[0;34m.\u001b[0m\u001b[0margs\u001b[0m\u001b[0;34m,\u001b[0m \u001b[0mretcode\u001b[0m\u001b[0;34m,\u001b[0m \u001b[0mstdout\u001b[0m\u001b[0;34m,\u001b[0m \u001b[0mstderr\u001b[0m\u001b[0;34m)\u001b[0m\u001b[0;34m\u001b[0m\u001b[0;34m\u001b[0m\u001b[0m\n",
            "\u001b[0;31mCalledProcessError\u001b[0m: Command 'python recasepunc/recasepunc.py predict recasepunc/checkpoint' returned non-zero exit status 2."
          ]
        }
      ]
    },
    {
      "cell_type": "code",
      "metadata": {
        "colab": {
          "base_uri": "https://localhost:8080/"
        },
        "id": "c7b5af7e",
        "outputId": "17c1a52f-35e0-4d1f-b8ba-7e5d7e2a4274"
      },
      "source": [
        "!pip install recasepunc"
      ],
      "execution_count": null,
      "outputs": [
        {
          "output_type": "stream",
          "name": "stdout",
          "text": [
            "\u001b[31mERROR: Could not find a version that satisfies the requirement recasepunc (from versions: none)\u001b[0m\u001b[31m\n",
            "\u001b[0m\u001b[31mERROR: No matching distribution found for recasepunc\u001b[0m\u001b[31m\n",
            "\u001b[0m"
          ]
        }
      ]
    },
    {
      "cell_type": "code",
      "metadata": {
        "colab": {
          "base_uri": "https://localhost:8080/"
        },
        "id": "67aca3e1",
        "outputId": "3ee26add-04ef-4b17-c634-fb66d1d6ddcd"
      },
      "source": [
        "# Original code from the user's notebook, with a note about the checkpoint file\n",
        "import subprocess\n",
        "# Note: This code requires the 'recasepunc' library to be installed and the 'recasepunc/checkpoint' file to be in the correct path.\n",
        "# You may need to download the checkpoint file separately and ensure its location.\n",
        "try:\n",
        "    cased = subprocess.check_output('python -m recasepunc.recasepunc predict recasepunc/checkpoint', shell=True, text=True, input=text)\n",
        "    print(cased)\n",
        "except subprocess.CalledProcessError as e:\n",
        "    print(f\"Error running recasepunc: {e}\")\n",
        "    print(f\"Stderr: {e.stderr}\")\n",
        "except FileNotFoundError:\n",
        "    print(\"Error: recasepunc script or checkpoint not found. Please ensure recasepunc is installed and the checkpoint file is in the correct location.\")"
      ],
      "execution_count": null,
      "outputs": [
        {
          "output_type": "stream",
          "name": "stdout",
          "text": [
            "Error running recasepunc: Command 'python -m recasepunc.recasepunc predict recasepunc/checkpoint' returned non-zero exit status 1.\n",
            "Stderr: None\n"
          ]
        }
      ]
    },
    {
      "cell_type": "markdown",
      "source": [
        "####Defining a function to transcribe longer audio files\n",
        "\n"
      ],
      "metadata": {
        "id": "Ajv-FnIJZ1Bg"
      }
    },
    {
      "cell_type": "markdown",
      "source": [
        "\n",
        "- We need to split up a long file into little pieces of about 45 seconds each, transcribe each of them into text, and then concatenate those pieces of text together for further adding punctuation to the result.\n"
      ],
      "metadata": {
        "id": "NLo7_e3WeLnF"
      }
    },
    {
      "cell_type": "code",
      "source": [
        "def voice_recognition(filename):\n",
        "  model = Model(model_name=\"vosk-model-en-us-0.22\")\n",
        "  rec = KaldiRecognizer(model, FRAME_RATE)\n",
        "  rec.SetWords(True)\n",
        "\n",
        "  mp3 = AudioSegment.from_mp3(filename)\n",
        "  mp3 = mp3.set_channels(CHANNELS)\n",
        "  mp3 = mp3.set_frame_rate(FRAME_RATE)\n",
        "\n",
        "  step = 45000\n",
        "  transcript = \"\"\n",
        "  for i in range(0, len(mp3), step):\n",
        "    print(f\"Progress: {i/len(mp3)}\")\n",
        "    segment = mp3[i:i+step]\n",
        "    rec.AcceptWaveform(segment.raw_data)\n",
        "    result = rec.Result()\n",
        "    text = json.loads(result)[\"text\"]\n",
        "    transcript += text\n",
        "    return transcript\n"
      ],
      "metadata": {
        "id": "TknxmGmDaYS6"
      },
      "execution_count": null,
      "outputs": []
    },
    {
      "cell_type": "code",
      "source": [
        "transcript = voice_recognition(\"marketplace_full (1).mp3\")\n"
      ],
      "metadata": {
        "id": "MQ2iTqcNbd6w"
      },
      "execution_count": null,
      "outputs": []
    },
    {
      "cell_type": "code",
      "source": [],
      "metadata": {
        "id": "Kje-Efa7f2h-"
      },
      "execution_count": null,
      "outputs": []
    }
  ]
}